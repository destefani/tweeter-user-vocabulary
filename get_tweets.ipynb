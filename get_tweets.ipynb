{
 "metadata": {
  "language_info": {
   "codemirror_mode": {
    "name": "ipython",
    "version": 3
   },
   "file_extension": ".py",
   "mimetype": "text/x-python",
   "name": "python",
   "nbconvert_exporter": "python",
   "pygments_lexer": "ipython3",
   "version": "3.8.5"
  },
  "orig_nbformat": 2,
  "kernelspec": {
   "name": "python385jvsc74a57bd0dca0ade3e726a953b501b15e8e990130d2b7799f14cfd9f4271676035ebe5511",
   "display_name": "Python 3.8.5 64-bit ('base': conda)"
  }
 },
 "nbformat": 4,
 "nbformat_minor": 2,
 "cells": [
  {
   "source": [
    "# Get all user tweets"
   ],
   "cell_type": "markdown",
   "metadata": {}
  },
  {
   "cell_type": "code",
   "execution_count": 1,
   "metadata": {},
   "outputs": [],
   "source": [
    "import json\n",
    "\n",
    "with open(\"data/credentials.json\") as f:\n",
    "    credentials = json.load(f)"
   ]
  },
  {
   "cell_type": "code",
   "execution_count": 2,
   "metadata": {},
   "outputs": [],
   "source": [
    "import twitter\n",
    "\n",
    "api = twitter.Api(consumer_key=credentials[\"api_key\"],\n",
    "                  consumer_secret=credentials[\"api_secret_key\"],\n",
    "                  access_token_key=credentials[\"access_token\"],\n",
    "                  access_token_secret=credentials[\"access_token_secret\"],\n",
    "                  tweet_mode='extended')"
   ]
  },
  {
   "cell_type": "code",
   "execution_count": 3,
   "metadata": {},
   "outputs": [],
   "source": [
    "def get_tweets(api=None, screen_name=None):\n",
    "    timeline = api.GetUserTimeline(screen_name=screen_name, count=200)\n",
    "    earliest_tweet = min(timeline, key=lambda x: x.id).id\n",
    "    print(\"getting tweets before:\", earliest_tweet)\n",
    "\n",
    "    try:\n",
    "        while True:\n",
    "            tweets = api.GetUserTimeline(\n",
    "                screen_name=screen_name, max_id=earliest_tweet, count=200\n",
    "            )\n",
    "            new_earliest = min(tweets, key=lambda x: x.id).id\n",
    "\n",
    "            if not tweets or new_earliest == earliest_tweet:\n",
    "                break\n",
    "            else:\n",
    "                earliest_tweet = new_earliest\n",
    "                print(\"getting tweets before:\", earliest_tweet)\n",
    "                timeline += tweets\n",
    "    except:\n",
    "        pass\n",
    "\n",
    "    return timeline"
   ]
  },
  {
   "cell_type": "code",
   "execution_count": 4,
   "metadata": {},
   "outputs": [
    {
     "output_type": "stream",
     "name": "stdout",
     "text": [
      "getting tweets before: 1274812257508220928\n",
      "getting tweets before: 1239273680590581760\n",
      "getting tweets before: 1184533291124383744\n",
      "getting tweets before: 1133169198006493184\n",
      "getting tweets before: 1081264548693397509\n",
      "getting tweets before: 1026967287134334977\n",
      "getting tweets before: 977941387789381633\n",
      "getting tweets before: 941468749546360833\n",
      "getting tweets before: 916718276570427392\n",
      "getting tweets before: 874092723170684928\n",
      "getting tweets before: 796315018123968512\n",
      "getting tweets before: 605007821302824960\n",
      "getting tweets before: 443355972887920640\n",
      "getting tweets before: 396245111597961216\n",
      "getting tweets before: 342354998279143424\n",
      "getting tweets before: 207168557132419072\n",
      "getting tweets before: 200728690999570433\n"
     ]
    }
   ],
   "source": [
    "screen_name = \"@sebastianpinera\"\n",
    "\n",
    "timeline = get_tweets(api=api, screen_name=screen_name)"
   ]
  },
  {
   "cell_type": "code",
   "execution_count": 5,
   "metadata": {},
   "outputs": [],
   "source": [
    "with open(\"data/sebastianpinera.json\", \"w+\") as f:\n",
    "    for tweet in timeline:\n",
    "        f.write(json.dumps(tweet._json))\n",
    "        f.write(\"\\n\")"
   ]
  },
  {
   "cell_type": "code",
   "execution_count": null,
   "metadata": {},
   "outputs": [],
   "source": []
  }
 ]
}